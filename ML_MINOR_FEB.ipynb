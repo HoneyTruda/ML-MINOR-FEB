{
  "nbformat": 4,
  "nbformat_minor": 0,
  "metadata": {
    "accelerator": "GPU",
    "colab": {
      "name": "ML-MINOR-FEB.ipynb",
      "provenance": [],
      "collapsed_sections": [],
      "include_colab_link": true
    },
    "kernelspec": {
      "display_name": "Python 3",
      "name": "python3"
    },
    "language_info": {
      "name": "python"
    }
  },
  "cells": [
    {
      "cell_type": "markdown",
      "metadata": {
        "id": "view-in-github",
        "colab_type": "text"
      },
      "source": [
        "<a href=\"https://colab.research.google.com/github/HoneyTruda/ML-MINOR-FEB/blob/main/ML_MINOR_FEB.ipynb\" target=\"_parent\"><img src=\"https://colab.research.google.com/assets/colab-badge.svg\" alt=\"Open In Colab\"/></a>"
      ]
    },
    {
      "cell_type": "markdown",
      "metadata": {
        "id": "ZDaRuiWbIWbR"
      },
      "source": [
        "# **Table of Contents**\n",
        "\n",
        "1. Introduction\n",
        "1. Create Dataset\n",
        "1. Import Libraries\n",
        "1. Exploratory data analysis\n",
        "1. Hyperparameter tuning\n",
        "1. Modeling and Prediction\n",
        "1. Conclusion\n"
      ]
    },
    {
      "cell_type": "markdown",
      "metadata": {
        "id": "PX1QF_UbJBPe"
      },
      "source": [
        "# **1. Introduction**\n",
        "\n",
        "In this project, we'll write an algorithm to classify whether images contain either a dog or a cat.  This is easy for humans, dogs, and cats but our computer will find it a bit more difficult.\n",
        "### 1.1: Data Description\n",
        "The folder \"datasets\" contain two sub-folder \"Birman Cat Red\" & \"doberman dog breed\" which contain images of cats and dog respectively.Each folder contains 40 images of each class.\n",
        "### 1.2: Data\n",
        "To download the Dataset click [here](https://drive.google.com/file/d/1Dv-HF10AUUA03AO_cQvar462eXawk0iQ/view?usp=sharing)\n",
        "### 1.3: Objective\n",
        "To build a machine learning classification model which classify whether images contain either a dog or a cat. \n",
        "\n"
      ]
    },
    {
      "cell_type": "markdown",
      "metadata": {
        "id": "9R0arYHKirv7"
      },
      "source": [
        "# **2. Create Dataset**\n",
        "In this step we will create a dataset which will contain images of cats and dog. For this we have to go through these following steps.\n",
        "- Install bing-image-downloder\n",
        "- Create a directory\n",
        "- Gather images from bing image"
      ]
    },
    {
      "cell_type": "code",
      "metadata": {
        "id": "pqzCdxlQpZvk",
        "colab": {
          "base_uri": "https://localhost:8080/"
        },
        "outputId": "68582839-d38a-4df1-ad81-e80964ea2b29"
      },
      "source": [
        "# Install bing image downloder\n",
        "!pip install bing-image-downloader"
      ],
      "execution_count": 1,
      "outputs": [
        {
          "output_type": "stream",
          "text": [
            "Installing collected packages: bing-image-downloader\n",
            "Successfully installed bing-image-downloader-1.0.4\n"
          ],
          "name": "stdout"
        }
      ]
    },
    {
      "cell_type": "code",
      "metadata": {
        "id": "754Y9GtSqocz"
      },
      "source": [
        "# Create a directory named as \"images\"\n",
        "!mkdir datasets"
      ],
      "execution_count": 2,
      "outputs": []
    },
    {
      "cell_type": "code",
      "metadata": {
        "collapsed": true,
        "id": "f7pPwFXiqoe_",
        "colab": {
          "base_uri": "https://localhost:8080/"
        },
        "outputId": "0efa0718-9ab8-42d9-9da2-66cc3eea4fc0"
      },
      "source": [
        "# Collect and store the dog images in \"datasets\" directory\n",
        "from bing_image_downloader import downloader\n",
        "downloader.download(\"doberman dog breed\", limit=40,  output_dir='datasets')"
      ],
      "execution_count": 3,
      "outputs": [
        {
          "output_type": "stream",
          "text": [
            "\n",
            "\n",
            "[!!]Indexing page: 1\n",
            "\n",
            "[%] Indexed 12 Images on Page 1.\n",
            "\n",
            "===============================================\n",
            "\n",
            "[%] Downloading Image #1 from https://i.pinimg.com/736x/8a/05/93/8a0593c9f06e3de87f74e4387284eaca--doberman-breed-doberman-pinscher.jpg\n",
            "[%] File Downloaded !\n",
            "\n",
            "[%] Downloading Image #2 from http://www.metaspoon.com/wp-content/uploads/2014/03/img_5328896d5f8df-1.jpg\n",
            "[%] File Downloaded !\n",
            "\n",
            "[%] Downloading Image #3 from https://www.breedyourdog.com/uploads/listing_images/40634/112188/big_listing_image_1586381478_1.jpeg\n",
            "[%] File Downloaded !\n",
            "\n",
            "[%] Downloading Image #4 from http://www.breedyourdog.com/uploads/listing_images/21473/53899/big_20150719_183525.jpg\n",
            "[%] File Downloaded !\n",
            "\n",
            "[%] Downloading Image #5 from https://i.pinimg.com/736x/69/4b/47/694b47b5627d376b653dec9d0a84003b--doberman-love-doberman-pinscher.jpg\n",
            "[%] File Downloaded !\n",
            "\n",
            "[%] Downloading Image #6 from https://s3-eu-west-1.amazonaws.com/bowwowtimes-new/wp-content/uploads/2015/07/Greyhound-mix.jpg\n",
            "[%] File Downloaded !\n",
            "\n",
            "[%] Downloading Image #7 from http://dogreference.com/wp-content/uploads/2014/01/61.jpg\n",
            "[%] File Downloaded !\n",
            "\n",
            "[%] Downloading Image #8 from https://s3-eu-west-1.amazonaws.com/bowwowtimes-new/wp-content/uploads/2015/07/Great-dane-mix.jpg\n",
            "[%] File Downloaded !\n",
            "\n",
            "[%] Downloading Image #9 from https://buzzsharer.com/wp-content/uploads/2015/07/Doberman-Pinscher-face-eyes.jpg\n",
            "[%] File Downloaded !\n",
            "\n",
            "[%] Downloading Image #10 from https://www.womentriangle.com/wp-content/uploads/2015/09/10422475_1044913338854673_322477980990825323_n.jpg\n",
            "[Error]Invalid image, not saving https://www.womentriangle.com/wp-content/uploads/2015/09/10422475_1044913338854673_322477980990825323_n.jpg\n",
            "\n",
            "[!] Issue getting: https://www.womentriangle.com/wp-content/uploads/2015/09/10422475_1044913338854673_322477980990825323_n.jpg\n",
            "[!] Error:: No active exception to reraise\n",
            "[%] Downloading Image #10 from https://buzzsharer.com/wp-content/uploads/2015/07/Doberman-Pinscher-female.jpg\n",
            "[%] File Downloaded !\n",
            "\n",
            "[%] Downloading Image #11 from https://img.thrfun.com/img/137/017/what_breed_is_my_dog_1_fancy2.jpg\n",
            "[%] File Downloaded !\n",
            "\n",
            "\n",
            "\n",
            "[!!]Indexing page: 2\n",
            "\n",
            "[%] Indexed 12 Images on Page 2.\n",
            "\n",
            "===============================================\n",
            "\n",
            "[%] Downloading Image #12 from https://i.pinimg.com/736x/8a/05/93/8a0593c9f06e3de87f74e4387284eaca--doberman-breed-doberman-pinscher.jpg\n",
            "[%] File Downloaded !\n",
            "\n",
            "[%] Downloading Image #13 from http://www.metaspoon.com/wp-content/uploads/2014/03/img_5328896d5f8df-1.jpg\n",
            "[%] File Downloaded !\n",
            "\n",
            "[%] Downloading Image #14 from https://www.breedyourdog.com/uploads/listing_images/40634/112188/big_listing_image_1586381478_1.jpeg\n",
            "[%] File Downloaded !\n",
            "\n",
            "[%] Downloading Image #15 from http://www.breedyourdog.com/uploads/listing_images/21473/53899/big_20150719_183525.jpg\n",
            "[%] File Downloaded !\n",
            "\n",
            "[%] Downloading Image #16 from https://i.pinimg.com/736x/69/4b/47/694b47b5627d376b653dec9d0a84003b--doberman-love-doberman-pinscher.jpg\n",
            "[%] File Downloaded !\n",
            "\n",
            "[%] Downloading Image #17 from https://s3-eu-west-1.amazonaws.com/bowwowtimes-new/wp-content/uploads/2015/07/Greyhound-mix.jpg\n",
            "[%] File Downloaded !\n",
            "\n",
            "[%] Downloading Image #18 from http://dogreference.com/wp-content/uploads/2014/01/61.jpg\n",
            "[%] File Downloaded !\n",
            "\n",
            "[%] Downloading Image #19 from https://s3-eu-west-1.amazonaws.com/bowwowtimes-new/wp-content/uploads/2015/07/Great-dane-mix.jpg\n",
            "[%] File Downloaded !\n",
            "\n",
            "[%] Downloading Image #20 from https://buzzsharer.com/wp-content/uploads/2015/07/Doberman-Pinscher-face-eyes.jpg\n",
            "[%] File Downloaded !\n",
            "\n",
            "[%] Downloading Image #21 from https://www.womentriangle.com/wp-content/uploads/2015/09/10422475_1044913338854673_322477980990825323_n.jpg\n",
            "[Error]Invalid image, not saving https://www.womentriangle.com/wp-content/uploads/2015/09/10422475_1044913338854673_322477980990825323_n.jpg\n",
            "\n",
            "[!] Issue getting: https://www.womentriangle.com/wp-content/uploads/2015/09/10422475_1044913338854673_322477980990825323_n.jpg\n",
            "[!] Error:: No active exception to reraise\n",
            "[%] Downloading Image #21 from https://buzzsharer.com/wp-content/uploads/2015/07/Doberman-Pinscher-female.jpg\n",
            "[%] File Downloaded !\n",
            "\n",
            "[%] Downloading Image #22 from https://img.thrfun.com/img/137/017/what_breed_is_my_dog_1_fancy2.jpg\n",
            "[%] File Downloaded !\n",
            "\n",
            "\n",
            "\n",
            "[!!]Indexing page: 3\n",
            "\n",
            "[%] Indexed 11 Images on Page 3.\n",
            "\n",
            "===============================================\n",
            "\n",
            "[%] Downloading Image #23 from https://www.breedyourdog.com/uploads/listing_images/40634/112188/big_listing_image_1586381478_1.jpeg\n",
            "[%] File Downloaded !\n",
            "\n",
            "[%] Downloading Image #24 from https://i.pinimg.com/736x/69/4b/47/694b47b5627d376b653dec9d0a84003b--doberman-love-doberman-pinscher.jpg\n",
            "[%] File Downloaded !\n",
            "\n",
            "[%] Downloading Image #25 from http://dogreference.com/wp-content/uploads/2014/01/61.jpg\n",
            "[%] File Downloaded !\n",
            "\n",
            "[%] Downloading Image #26 from https://www.womentriangle.com/wp-content/uploads/2015/09/10422475_1044913338854673_322477980990825323_n.jpg\n",
            "[Error]Invalid image, not saving https://www.womentriangle.com/wp-content/uploads/2015/09/10422475_1044913338854673_322477980990825323_n.jpg\n",
            "\n",
            "[!] Issue getting: https://www.womentriangle.com/wp-content/uploads/2015/09/10422475_1044913338854673_322477980990825323_n.jpg\n",
            "[!] Error:: No active exception to reraise\n",
            "[%] Downloading Image #26 from https://s3-eu-west-1.amazonaws.com/bowwowtimes-new/wp-content/uploads/2015/07/Great-dane-mix.jpg\n",
            "[%] File Downloaded !\n",
            "\n",
            "[%] Downloading Image #27 from https://buzzsharer.com/wp-content/uploads/2015/07/Doberman-Pinscher-female.jpg\n",
            "[%] File Downloaded !\n",
            "\n",
            "[%] Downloading Image #28 from http://www.breedyourdog.com/uploads/listing_images/21473/53899/big_20150719_183525.jpg\n",
            "[%] File Downloaded !\n",
            "\n",
            "[%] Downloading Image #29 from https://s3-eu-west-1.amazonaws.com/bowwowtimes-new/wp-content/uploads/2015/07/Greyhound-mix.jpg\n",
            "[%] File Downloaded !\n",
            "\n",
            "[%] Downloading Image #30 from http://www.metaspoon.com/wp-content/uploads/2014/03/img_5328896d5f8df-1.jpg\n",
            "[%] File Downloaded !\n",
            "\n",
            "[%] Downloading Image #31 from https://buzzsharer.com/wp-content/uploads/2015/07/Doberman-Pinscher-face-eyes.jpg\n",
            "[%] File Downloaded !\n",
            "\n",
            "[%] Downloading Image #32 from https://img.thrfun.com/img/137/017/what_breed_is_my_dog_1_fancy2.jpg\n",
            "[%] File Downloaded !\n",
            "\n",
            "\n",
            "\n",
            "[!!]Indexing page: 4\n",
            "\n",
            "[%] Indexed 10 Images on Page 4.\n",
            "\n",
            "===============================================\n",
            "\n",
            "[%] Downloading Image #33 from https://i.pinimg.com/736x/69/4b/47/694b47b5627d376b653dec9d0a84003b--doberman-love-doberman-pinscher.jpg\n",
            "[%] File Downloaded !\n",
            "\n",
            "[%] Downloading Image #34 from http://dogreference.com/wp-content/uploads/2014/01/61.jpg\n",
            "[%] File Downloaded !\n",
            "\n",
            "[%] Downloading Image #35 from https://www.womentriangle.com/wp-content/uploads/2015/09/10422475_1044913338854673_322477980990825323_n.jpg\n",
            "[Error]Invalid image, not saving https://www.womentriangle.com/wp-content/uploads/2015/09/10422475_1044913338854673_322477980990825323_n.jpg\n",
            "\n",
            "[!] Issue getting: https://www.womentriangle.com/wp-content/uploads/2015/09/10422475_1044913338854673_322477980990825323_n.jpg\n",
            "[!] Error:: No active exception to reraise\n",
            "[%] Downloading Image #35 from https://s3-eu-west-1.amazonaws.com/bowwowtimes-new/wp-content/uploads/2015/07/Great-dane-mix.jpg\n",
            "[%] File Downloaded !\n",
            "\n",
            "[%] Downloading Image #36 from https://buzzsharer.com/wp-content/uploads/2015/07/Doberman-Pinscher-female.jpg\n",
            "[%] File Downloaded !\n",
            "\n",
            "[%] Downloading Image #37 from http://www.breedyourdog.com/uploads/listing_images/21473/53899/big_20150719_183525.jpg\n",
            "[%] File Downloaded !\n",
            "\n",
            "[%] Downloading Image #38 from https://s3-eu-west-1.amazonaws.com/bowwowtimes-new/wp-content/uploads/2015/07/Greyhound-mix.jpg\n",
            "[%] File Downloaded !\n",
            "\n",
            "[%] Downloading Image #39 from http://www.metaspoon.com/wp-content/uploads/2014/03/img_5328896d5f8df-1.jpg\n",
            "[%] File Downloaded !\n",
            "\n",
            "[%] Downloading Image #40 from https://buzzsharer.com/wp-content/uploads/2015/07/Doberman-Pinscher-face-eyes.jpg\n",
            "[%] File Downloaded !\n",
            "\n",
            "\n",
            "\n",
            "[%] Done. Downloaded 40 images.\n",
            "\n",
            "===============================================\n",
            "\n"
          ],
          "name": "stdout"
        }
      ]
    },
    {
      "cell_type": "markdown",
      "metadata": {
        "id": "s1SiSIT64HG2"
      },
      "source": [
        "# **Upload dataset to Drive**"
      ]
    },
    {
      "cell_type": "code",
      "metadata": {
        "id": "4I6peIFF9VhP",
        "colab": {
          "base_uri": "https://localhost:8080/"
        },
        "outputId": "0a063f7a-d3e1-4923-88cc-6e78fece07db"
      },
      "source": [
        "# from google.colab import drive\n",
        "# drive.mount('/content/drive')"
      ],
      "execution_count": 21,
      "outputs": [
        {
          "output_type": "stream",
          "text": [
            "Mounted at /content/drive\n"
          ],
          "name": "stdout"
        }
      ]
    },
    {
      "cell_type": "code",
      "metadata": {
        "collapsed": true,
        "id": "6bk_4nyV05yA",
        "outputId": "1fe5197c-bc55-4c74-ce4d-ee798ab1b692",
        "colab": {
          "base_uri": "https://localhost:8080/"
        }
      },
      "source": [
        "#!zip -r /content/drive/MyDrive/dataset/dataset.zip /content/datasets/Birman_Cat_Red/"
      ],
      "execution_count": 26,
      "outputs": [
        {
          "output_type": "stream",
          "text": [
            "  adding: content/datasets/Birman_Cat_Red/ (stored 0%)\n",
            "  adding: content/datasets/Birman_Cat_Red/Image_18.jpg (deflated 1%)\n",
            "  adding: content/datasets/Birman_Cat_Red/Image_15.jpg (deflated 3%)\n",
            "  adding: content/datasets/Birman_Cat_Red/Image_13.jpg (deflated 1%)\n",
            "  adding: content/datasets/Birman_Cat_Red/Image_8.jpg (deflated 6%)\n",
            "  adding: content/datasets/Birman_Cat_Red/Image_5.jpg (deflated 0%)\n",
            "  adding: content/datasets/Birman_Cat_Red/Image_36.jpg (deflated 0%)\n",
            "  adding: content/datasets/Birman_Cat_Red/Image_26.jpg (deflated 0%)\n",
            "  adding: content/datasets/Birman_Cat_Red/Image_1.jpg (deflated 0%)\n",
            "  adding: content/datasets/Birman_Cat_Red/Image_38.jpg (deflated 1%)\n",
            "  adding: content/datasets/Birman_Cat_Red/Image_19.jpg (deflated 6%)\n",
            "  adding: content/datasets/Birman_Cat_Red/Image_14.jpg (deflated 1%)\n",
            "  adding: content/datasets/Birman_Cat_Red/Image_25.jpg (deflated 3%)\n",
            "  adding: content/datasets/Birman_Cat_Red/Image_31.jpg (deflated 1%)\n",
            "  adding: content/datasets/Birman_Cat_Red/Image_22.jpg (deflated 11%)\n",
            "  adding: content/datasets/Birman_Cat_Red/Image_6.jpg (deflated 4%)\n",
            "  adding: content/datasets/Birman_Cat_Red/Image_17.jpg (deflated 4%)\n",
            "  adding: content/datasets/Birman_Cat_Red/Image_40.jpg (deflated 0%)\n",
            "  adding: content/datasets/Birman_Cat_Red/Image_32.jpg (deflated 11%)\n",
            "  adding: content/datasets/Birman_Cat_Red/Image_24.jpg (deflated 1%)\n",
            "  adding: content/datasets/Birman_Cat_Red/Image_23.jpg (deflated 1%)\n",
            "  adding: content/datasets/Birman_Cat_Red/Image_12.jpg (deflated 0%)\n",
            "  adding: content/datasets/Birman_Cat_Red/Image_10.jpg (deflated 1%)\n",
            "  adding: content/datasets/Birman_Cat_Red/Image_9.jpg (deflated 0%)\n",
            "  adding: content/datasets/Birman_Cat_Red/Image_20.jpg (deflated 0%)\n",
            "  adding: content/datasets/Birman_Cat_Red/Image_34.jpg (deflated 1%)\n",
            "  adding: content/datasets/Birman_Cat_Red/Image_27.jpg (deflated 4%)\n",
            "  adding: content/datasets/Birman_Cat_Red/Image_21.jpg (deflated 1%)\n",
            "  adding: content/datasets/Birman_Cat_Red/Image_11.jpg (deflated 11%)\n",
            "  adding: content/datasets/Birman_Cat_Red/Image_30.jpg (deflated 0%)\n",
            "  adding: content/datasets/Birman_Cat_Red/Image_4.jpg (deflated 3%)\n",
            "  adding: content/datasets/Birman_Cat_Red/Image_7.jpg (deflated 1%)\n",
            "  adding: content/datasets/Birman_Cat_Red/Image_37.jpg (deflated 4%)\n",
            "  adding: content/datasets/Birman_Cat_Red/Image_39.jpg (deflated 6%)\n",
            "  adding: content/datasets/Birman_Cat_Red/Image_29.jpg (deflated 6%)\n",
            "  adding: content/datasets/Birman_Cat_Red/Image_28.jpg (deflated 1%)\n",
            "  adding: content/datasets/Birman_Cat_Red/Image_16.jpg (deflated 0%)\n",
            "  adding: content/datasets/Birman_Cat_Red/Image_3.jpg (deflated 1%)\n",
            "  adding: content/datasets/Birman_Cat_Red/Image_33.jpg (deflated 1%)\n",
            "  adding: content/datasets/Birman_Cat_Red/Image_2.jpg (deflated 1%)\n",
            "  adding: content/datasets/Birman_Cat_Red/Image_35.jpg (deflated 3%)\n"
          ],
          "name": "stdout"
        }
      ]
    },
    {
      "cell_type": "code",
      "metadata": {
        "collapsed": true,
        "id": "7Zk24FtN1uKu",
        "outputId": "a9754c25-8d07-4bc7-dfb8-3f549d7a0a92",
        "colab": {
          "base_uri": "https://localhost:8080/"
        }
      },
      "source": [
        "# !zip -r /content/drive/MyDrive/dataset/dataset.zip /content/datasets/doberman_dog_breed/"
      ],
      "execution_count": 27,
      "outputs": [
        {
          "output_type": "stream",
          "text": [
            "  adding: content/datasets/doberman_dog_breed/ (stored 0%)\n",
            "  adding: content/datasets/doberman_dog_breed/Image_18.jpg (deflated 1%)\n",
            "  adding: content/datasets/doberman_dog_breed/Image_15.jpg (deflated 0%)\n",
            "  adding: content/datasets/doberman_dog_breed/Image_13.jpg (deflated 0%)\n",
            "  adding: content/datasets/doberman_dog_breed/Image_8.jpg (deflated 0%)\n",
            "  adding: content/datasets/doberman_dog_breed/Image_5.jpg (deflated 3%)\n",
            "  adding: content/datasets/doberman_dog_breed/Image_36.jpg (deflated 1%)\n",
            "  adding: content/datasets/doberman_dog_breed/Image_26.jpg (deflated 0%)\n",
            "  adding: content/datasets/doberman_dog_breed/Image_23.jpeg (deflated 9%)\n",
            "  adding: content/datasets/doberman_dog_breed/Image_1.jpg (deflated 2%)\n",
            "  adding: content/datasets/doberman_dog_breed/Image_38.jpg (deflated 0%)\n",
            "  adding: content/datasets/doberman_dog_breed/Image_19.jpg (deflated 0%)\n",
            "  adding: content/datasets/doberman_dog_breed/Image_25.jpg (deflated 1%)\n",
            "  adding: content/datasets/doberman_dog_breed/Image_31.jpg (deflated 5%)\n",
            "  adding: content/datasets/doberman_dog_breed/Image_22.jpg (deflated 1%)\n",
            "  adding: content/datasets/doberman_dog_breed/Image_6.jpg (deflated 0%)\n",
            "  adding: content/datasets/doberman_dog_breed/Image_17.jpg (deflated 0%)\n",
            "  adding: content/datasets/doberman_dog_breed/Image_40.jpg (deflated 5%)\n",
            "  adding: content/datasets/doberman_dog_breed/Image_32.jpg (deflated 1%)\n",
            "  adding: content/datasets/doberman_dog_breed/Image_24.jpg (deflated 3%)\n",
            "  adding: content/datasets/doberman_dog_breed/Image_12.jpg (deflated 2%)\n",
            "  adding: content/datasets/doberman_dog_breed/Image_10.jpg (deflated 1%)\n",
            "  adding: content/datasets/doberman_dog_breed/Image_9.jpg (deflated 5%)\n",
            "  adding: content/datasets/doberman_dog_breed/Image_20.jpg (deflated 5%)\n",
            "  adding: content/datasets/doberman_dog_breed/Image_34.jpg (deflated 1%)\n",
            "  adding: content/datasets/doberman_dog_breed/Image_27.jpg (deflated 1%)\n",
            "  adding: content/datasets/doberman_dog_breed/Image_21.jpg (deflated 1%)\n",
            "  adding: content/datasets/doberman_dog_breed/Image_11.jpg (deflated 1%)\n",
            "  adding: content/datasets/doberman_dog_breed/Image_30.jpg (deflated 0%)\n",
            "  adding: content/datasets/doberman_dog_breed/Image_4.jpg (deflated 0%)\n",
            "  adding: content/datasets/doberman_dog_breed/Image_14.jpeg (deflated 9%)\n",
            "  adding: content/datasets/doberman_dog_breed/Image_7.jpg (deflated 1%)\n",
            "  adding: content/datasets/doberman_dog_breed/Image_37.jpg (deflated 0%)\n",
            "  adding: content/datasets/doberman_dog_breed/Image_39.jpg (deflated 0%)\n",
            "  adding: content/datasets/doberman_dog_breed/Image_29.jpg (deflated 0%)\n",
            "  adding: content/datasets/doberman_dog_breed/Image_28.jpg (deflated 0%)\n",
            "  adding: content/datasets/doberman_dog_breed/Image_16.jpg (deflated 3%)\n",
            "  adding: content/datasets/doberman_dog_breed/Image_33.jpg (deflated 3%)\n",
            "  adding: content/datasets/doberman_dog_breed/Image_2.jpg (deflated 0%)\n",
            "  adding: content/datasets/doberman_dog_breed/Image_3.jpeg (deflated 9%)\n",
            "  adding: content/datasets/doberman_dog_breed/Image_35.jpg (deflated 0%)\n"
          ],
          "name": "stdout"
        }
      ]
    },
    {
      "cell_type": "code",
      "metadata": {
        "collapsed": true,
        "id": "Ry2V4xpzqojh",
        "colab": {
          "base_uri": "https://localhost:8080/"
        },
        "outputId": "598e04b2-3f95-4ed1-c152-a0a2b5d9924b"
      },
      "source": [
        "# Collect and store the dog images in \"datasets\" directory\n",
        "from bing_image_downloader import downloader\n",
        "downloader.download(\"Birman Cat Red\", limit=40,  output_dir='datasets')"
      ],
      "execution_count": 6,
      "outputs": [
        {
          "output_type": "stream",
          "text": [
            "\n",
            "\n",
            "[!!]Indexing page: 1\n",
            "\n",
            "[%] Indexed 12 Images on Page 1.\n",
            "\n",
            "===============================================\n",
            "\n",
            "[%] Downloading Image #1 from https://i.ytimg.com/vi/gIRaeVOAbLM/maxresdefault.jpg\n",
            "[%] File Downloaded !\n",
            "\n",
            "[%] Downloading Image #2 from https://www.pets4homes.co.uk/images/classifieds/2019/05/26/2307559/thumbs/birman-x-kittens-5cea603f3d6e1.jpg\n",
            "[!] Issue getting: https://www.pets4homes.co.uk/images/classifieds/2019/05/26/2307559/thumbs/birman-x-kittens-5cea603f3d6e1.jpg\n",
            "[!] Error:: HTTP Error 403: Forbidden\n",
            "[%] Downloading Image #2 from http://www.cat-breeds-encyclopedia.com/images/xBirman-flame-points.jpg.pagespeed.ic.ZTa38ujllA.jpg\n",
            "[%] File Downloaded !\n",
            "\n",
            "[%] Downloading Image #3 from http://www.birmansusa.com/images/colors/blue.jpg\n",
            "[%] File Downloaded !\n",
            "\n",
            "[%] Downloading Image #4 from https://hdfreewallpaper.net/wp-content/uploads/2018/02/cute-birman-cat-background.jpg\n",
            "[%] File Downloaded !\n",
            "\n",
            "[%] Downloading Image #5 from http://3.bp.blogspot.com/-MZqploEqRqU/U5MCCu5UOYI/AAAAAAAAD7M/qq1Sz9d_h3s/s1600/Birman-kitty.jpg\n",
            "[%] File Downloaded !\n",
            "\n",
            "[%] Downloading Image #6 from http://images2.minutemediacdn.com/image/upload/c_fit,f_auto,fl_lossy,q_auto,w_728/v1555911977/shape/mentalfloss/burmese3.jpg\n",
            "[%] File Downloaded !\n",
            "\n",
            "[%] Downloading Image #7 from http://www.cat-breeds-encyclopedia.com/image-files/tortoiseshell-longhaired-cat-small.jpg\n",
            "[%] File Downloaded !\n",
            "\n",
            "[%] Downloading Image #8 from https://www.petmd.com/sites/default/files/Ojus_Azules.flickr_0.jpg\n",
            "[%] File Downloaded !\n",
            "\n",
            "[%] Downloading Image #9 from http://cdn.themysteriousworld.com/wp-content/uploads/2014/12/toyger-cat.jpg\n",
            "[%] File Downloaded !\n",
            "\n",
            "[%] Downloading Image #10 from http://www.cat-breeds-encyclopedia.com/images/xNorwegian-forest-cat-calico.jpg.pagespeed.ic.oI4WRMSKt1.jpg\n",
            "[%] File Downloaded !\n",
            "\n",
            "[%] Downloading Image #11 from http://www.cat-breeds-encyclopedia.com/images/Devon-rex-snow-white.jpg\n",
            "[%] File Downloaded !\n",
            "\n",
            "\n",
            "\n",
            "[!!]Indexing page: 2\n",
            "\n",
            "[%] Indexed 12 Images on Page 2.\n",
            "\n",
            "===============================================\n",
            "\n",
            "[%] Downloading Image #12 from https://i.ytimg.com/vi/gIRaeVOAbLM/maxresdefault.jpg\n",
            "[%] File Downloaded !\n",
            "\n",
            "[%] Downloading Image #13 from https://www.pets4homes.co.uk/images/classifieds/2019/05/26/2307559/thumbs/birman-x-kittens-5cea603f3d6e1.jpg\n",
            "[!] Issue getting: https://www.pets4homes.co.uk/images/classifieds/2019/05/26/2307559/thumbs/birman-x-kittens-5cea603f3d6e1.jpg\n",
            "[!] Error:: HTTP Error 403: Forbidden\n",
            "[%] Downloading Image #13 from http://www.cat-breeds-encyclopedia.com/images/xBirman-flame-points.jpg.pagespeed.ic.ZTa38ujllA.jpg\n",
            "[%] File Downloaded !\n",
            "\n",
            "[%] Downloading Image #14 from http://www.birmansusa.com/images/colors/blue.jpg\n",
            "[%] File Downloaded !\n",
            "\n",
            "[%] Downloading Image #15 from https://hdfreewallpaper.net/wp-content/uploads/2018/02/cute-birman-cat-background.jpg\n",
            "[%] File Downloaded !\n",
            "\n",
            "[%] Downloading Image #16 from http://3.bp.blogspot.com/-MZqploEqRqU/U5MCCu5UOYI/AAAAAAAAD7M/qq1Sz9d_h3s/s1600/Birman-kitty.jpg\n",
            "[%] File Downloaded !\n",
            "\n",
            "[%] Downloading Image #17 from http://images2.minutemediacdn.com/image/upload/c_fit,f_auto,fl_lossy,q_auto,w_728/v1555911977/shape/mentalfloss/burmese3.jpg\n",
            "[%] File Downloaded !\n",
            "\n",
            "[%] Downloading Image #18 from http://www.cat-breeds-encyclopedia.com/image-files/tortoiseshell-longhaired-cat-small.jpg\n",
            "[%] File Downloaded !\n",
            "\n",
            "[%] Downloading Image #19 from https://www.petmd.com/sites/default/files/Ojus_Azules.flickr_0.jpg\n",
            "[%] File Downloaded !\n",
            "\n",
            "[%] Downloading Image #20 from http://cdn.themysteriousworld.com/wp-content/uploads/2014/12/toyger-cat.jpg\n",
            "[%] File Downloaded !\n",
            "\n",
            "[%] Downloading Image #21 from http://www.cat-breeds-encyclopedia.com/images/xNorwegian-forest-cat-calico.jpg.pagespeed.ic.oI4WRMSKt1.jpg\n",
            "[%] File Downloaded !\n",
            "\n",
            "[%] Downloading Image #22 from http://www.cat-breeds-encyclopedia.com/images/Devon-rex-snow-white.jpg\n",
            "[%] File Downloaded !\n",
            "\n",
            "\n",
            "\n",
            "[!!]Indexing page: 3\n",
            "\n",
            "[%] Indexed 11 Images on Page 3.\n",
            "\n",
            "===============================================\n",
            "\n",
            "[%] Downloading Image #23 from https://www.pets4homes.co.uk/images/classifieds/2019/05/26/2307559/thumbs/birman-x-kittens-5cea603f3d6e1.jpg\n",
            "[!] Issue getting: https://www.pets4homes.co.uk/images/classifieds/2019/05/26/2307559/thumbs/birman-x-kittens-5cea603f3d6e1.jpg\n",
            "[!] Error:: HTTP Error 403: Forbidden\n",
            "[%] Downloading Image #23 from http://www.cat-breeds-encyclopedia.com/images/xBirman-flame-points.jpg.pagespeed.ic.ZTa38ujllA.jpg\n",
            "[%] File Downloaded !\n",
            "\n",
            "[%] Downloading Image #24 from http://www.birmansusa.com/images/colors/blue.jpg\n",
            "[%] File Downloaded !\n",
            "\n",
            "[%] Downloading Image #25 from https://hdfreewallpaper.net/wp-content/uploads/2018/02/cute-birman-cat-background.jpg\n",
            "[%] File Downloaded !\n",
            "\n",
            "[%] Downloading Image #26 from http://3.bp.blogspot.com/-MZqploEqRqU/U5MCCu5UOYI/AAAAAAAAD7M/qq1Sz9d_h3s/s1600/Birman-kitty.jpg\n",
            "[%] File Downloaded !\n",
            "\n",
            "[%] Downloading Image #27 from http://images2.minutemediacdn.com/image/upload/c_fit,f_auto,fl_lossy,q_auto,w_728/v1555911977/shape/mentalfloss/burmese3.jpg\n",
            "[%] File Downloaded !\n",
            "\n",
            "[%] Downloading Image #28 from http://www.cat-breeds-encyclopedia.com/image-files/tortoiseshell-longhaired-cat-small.jpg\n",
            "[%] File Downloaded !\n",
            "\n",
            "[%] Downloading Image #29 from https://www.petmd.com/sites/default/files/Ojus_Azules.flickr_0.jpg\n",
            "[%] File Downloaded !\n",
            "\n",
            "[%] Downloading Image #30 from http://cdn.themysteriousworld.com/wp-content/uploads/2014/12/toyger-cat.jpg\n",
            "[%] File Downloaded !\n",
            "\n",
            "[%] Downloading Image #31 from http://www.cat-breeds-encyclopedia.com/images/xNorwegian-forest-cat-calico.jpg.pagespeed.ic.oI4WRMSKt1.jpg\n",
            "[%] File Downloaded !\n",
            "\n",
            "[%] Downloading Image #32 from http://www.cat-breeds-encyclopedia.com/images/Devon-rex-snow-white.jpg\n",
            "[%] File Downloaded !\n",
            "\n",
            "\n",
            "\n",
            "[!!]Indexing page: 4\n",
            "\n",
            "[%] Indexed 10 Images on Page 4.\n",
            "\n",
            "===============================================\n",
            "\n",
            "[%] Downloading Image #33 from http://www.cat-breeds-encyclopedia.com/images/xBirman-flame-points.jpg.pagespeed.ic.ZTa38ujllA.jpg\n",
            "[%] File Downloaded !\n",
            "\n",
            "[%] Downloading Image #34 from http://www.birmansusa.com/images/colors/blue.jpg\n",
            "[%] File Downloaded !\n",
            "\n",
            "[%] Downloading Image #35 from https://hdfreewallpaper.net/wp-content/uploads/2018/02/cute-birman-cat-background.jpg\n",
            "[%] File Downloaded !\n",
            "\n",
            "[%] Downloading Image #36 from http://3.bp.blogspot.com/-MZqploEqRqU/U5MCCu5UOYI/AAAAAAAAD7M/qq1Sz9d_h3s/s1600/Birman-kitty.jpg\n",
            "[%] File Downloaded !\n",
            "\n",
            "[%] Downloading Image #37 from http://images2.minutemediacdn.com/image/upload/c_fit,f_auto,fl_lossy,q_auto,w_728/v1555911977/shape/mentalfloss/burmese3.jpg\n",
            "[%] File Downloaded !\n",
            "\n",
            "[%] Downloading Image #38 from http://www.cat-breeds-encyclopedia.com/image-files/tortoiseshell-longhaired-cat-small.jpg\n",
            "[%] File Downloaded !\n",
            "\n",
            "[%] Downloading Image #39 from https://www.petmd.com/sites/default/files/Ojus_Azules.flickr_0.jpg\n",
            "[%] File Downloaded !\n",
            "\n",
            "[%] Downloading Image #40 from http://cdn.themysteriousworld.com/wp-content/uploads/2014/12/toyger-cat.jpg\n",
            "[%] File Downloaded !\n",
            "\n",
            "\n",
            "\n",
            "[%] Done. Downloaded 40 images.\n",
            "\n",
            "===============================================\n",
            "\n"
          ],
          "name": "stdout"
        }
      ]
    },
    {
      "cell_type": "markdown",
      "metadata": {
        "id": "uV3INr6Vk4JL"
      },
      "source": [
        "# **3. Import Libraries**"
      ]
    },
    {
      "cell_type": "code",
      "metadata": {
        "id": "LykJmuc135N3"
      },
      "source": [
        "import os\n",
        "from skimage.io import imread\n",
        "from skimage.transform import resize\n",
        "from sklearn.model_selection import train_test_split\n",
        "import matplotlib.pyplot as plt\n",
        "import pandas as pd\n",
        "import numpy as np\n",
        "from sklearn.model_selection import GridSearchCV\n",
        "from sklearn.ensemble import RandomForestClassifier\n",
        "from sklearn.linear_model import LogisticRegression\n",
        "from sklearn.tree import DecisionTreeClassifier\n",
        "from sklearn.svm import SVC\n",
        "import xgboost as xgb\n",
        "from sklearn.metrics import confusion_matrix\n",
        "import warnings"
      ],
      "execution_count": 7,
      "outputs": []
    },
    {
      "cell_type": "markdown",
      "metadata": {
        "id": "C7C-BJwJl9yr"
      },
      "source": [
        "# **4. Load Dataset & do EDA**\n",
        "Here we will do these following steps.\n",
        "- store all images and labels into two empty list\n",
        "- read all images\n",
        "- resize these images\n",
        "- flattening the size of images\n",
        "- store the size into a empty list\n",
        "\n",
        "***Why resize ???***\n",
        "\n",
        "Since the model receive inputs of the same size, all images need to be resized to a fixed size before inputting them to the model. The larger the fixed size, the less shrinking required. Less shrinking means less deformation of features and patterns inside the image.\n",
        "\n",
        "***Why flattening ???***\n",
        "\n",
        "In the network, we usually want to use fully connected layers that don’t take any structure (spatial or otherwise) into account for processing.That’s what “flattening” means. It breaks the spatial structure of the data and transforms the tridimension of image size into a monodimensional tensor (a vector)."
      ]
    },
    {
      "cell_type": "code",
      "metadata": {
        "id": "S4_Uga1NqomQ"
      },
      "source": [
        "DIRECTORY = r\"/content/datasets\"\n",
        "CATEGORIES = [\"Birman Cat Red\",\"doberman dog breed\"]\n",
        "\n",
        "# create empty list to store image size & labels\n",
        "data = []\n",
        "labels = []\n",
        "flat_data = []\n",
        "\n",
        "for category in CATEGORIES:\n",
        "  path = os.path.join(DIRECTORY, category)\n",
        "  label=CATEGORIES.index(category)\n",
        "  for img in os.listdir(path):\n",
        "    img_path=os.path.join(path, img)\n",
        "    image=imread(img_path)\n",
        "    # resize the image\n",
        "    resized_img=resize(image, (100, 100,3))\n",
        "    # flattening the image size and append to the empty list\n",
        "    flat_data.append(resized_img.flatten())\n",
        "    # append the label to the empty list\n",
        "    labels.append(label)\n"
      ],
      "execution_count": 8,
      "outputs": []
    },
    {
      "cell_type": "code",
      "metadata": {
        "id": "TnxfVXLCf-sQ"
      },
      "source": [
        "# convert the list into array\n",
        "flat_data=np.array(flat_data)\n",
        "labels=np.array(labels)\n",
        "data=np.array(data)"
      ],
      "execution_count": 9,
      "outputs": []
    },
    {
      "cell_type": "code",
      "metadata": {
        "id": "Tw-umtxAZOyT",
        "colab": {
          "base_uri": "https://localhost:8080/"
        },
        "outputId": "81236b7f-d5b5-4eaa-baac-2193958c5a6e"
      },
      "source": [
        "flat_data"
      ],
      "execution_count": 10,
      "outputs": [
        {
          "output_type": "execute_result",
          "data": {
            "text/plain": [
              "array([[0.98666667, 0.98666667, 0.98666667, ..., 0.4498    , 0.20340392,\n",
              "        0.12118824],\n",
              "       [0.12121569, 0.12156863, 0.1254902 , ..., 0.11694118, 0.11221569,\n",
              "        0.11853922],\n",
              "       [0.05098039, 0.0627451 , 0.09803922, ..., 0.02745098, 0.02745098,\n",
              "        0.05882353],\n",
              "       ...,\n",
              "       [0.05882353, 0.07058824, 0.04313725, ..., 0.3172549 , 0.35266667,\n",
              "        0.35815686],\n",
              "       [0.01176471, 0.03137255, 0.01221451, ..., 0.71866667, 0.71866667,\n",
              "        0.51082353],\n",
              "       [0.6738048 , 0.68327451, 0.29503922, ..., 0.23621569, 0.24243225,\n",
              "        0.2567451 ]])"
            ]
          },
          "metadata": {
            "tags": []
          },
          "execution_count": 10
        }
      ]
    },
    {
      "cell_type": "markdown",
      "metadata": {
        "id": "K1VyJ2xbv-x7"
      },
      "source": [
        "# **5. Hyperparameter tuning**"
      ]
    },
    {
      "cell_type": "code",
      "metadata": {
        "id": "ddBTIDdshtGg"
      },
      "source": [
        " #parameters of all classification algorithms respectively\n",
        "model_param={\n",
        "    'random_forest':{\n",
        "        'model':RandomForestClassifier(),\n",
        "        'params':{\n",
        "            'n_estimators':[1,5,10]\n",
        "        }\n",
        "    },\n",
        "    'logistic_regression':{\n",
        "        'model':LogisticRegression(multi_class='auto'),\n",
        "        'params':{\n",
        "            'C':[1,5,10]\n",
        "        }\n",
        "    },\n",
        "    \n",
        "    'decission_tree':{\n",
        "        'model':DecisionTreeClassifier(),\n",
        "        'params':{\n",
        "            'criterion' : [\"gini\", \"entropy\"]\n",
        "        }\n",
        "    },\n",
        "    'svm':{\n",
        "        'model':SVC(gamma='auto'),\n",
        "        'params':{\n",
        "            'C':[1,10,20],\n",
        "            'kernel':['rbf','linear']\n",
        "        }\n",
        "    }\n",
        "  \n",
        "    \n",
        "}"
      ],
      "execution_count": 11,
      "outputs": []
    },
    {
      "cell_type": "code",
      "metadata": {
        "id": "Jbz5AxZrhtKa",
        "colab": {
          "base_uri": "https://localhost:8080/"
        },
        "outputId": "b35d4a15-70f0-48cc-9e38-9eff8f801bce"
      },
      "source": [
        "# Hide warning\n",
        "warnings.filterwarnings('ignore')\n",
        "\n",
        "scores=[]\n",
        "for model_name,mp in model_param.items():\n",
        "    # Apply GridSearchCV\n",
        "    rs=GridSearchCV(mp['model'],mp['params'],cv=5,return_train_score=False)\n",
        "    rs.fit(flat_data,labels)\n",
        "    print( model_name,\" : successfully execute\")\n",
        "    scores.append({\n",
        "        'model':model_name, # it'll retrive the best model name\n",
        "        \"best_score\":rs.best_score_, # it'll retrive the best accuracy score\n",
        "        'best_params':rs.best_params_ # it'll retrive the best parameter\n",
        "    })"
      ],
      "execution_count": 12,
      "outputs": [
        {
          "output_type": "stream",
          "text": [
            "random_forest  : successfully execute\n",
            "logistic_regression  : successfully execute\n",
            "decission_tree  : successfully execute\n",
            "svm  : successfully execute\n"
          ],
          "name": "stdout"
        }
      ]
    },
    {
      "cell_type": "code",
      "metadata": {
        "id": "TxY0jN_-kbuQ",
        "colab": {
          "base_uri": "https://localhost:8080/",
          "height": 164
        },
        "outputId": "aaed97b6-62a0-4129-ba8b-1a31591e2b59"
      },
      "source": [
        "df=pd.DataFrame(scores,columns=['model','best_score','best_params'])\n",
        "df"
      ],
      "execution_count": 13,
      "outputs": [
        {
          "output_type": "execute_result",
          "data": {
            "text/html": [
              "<div>\n",
              "<style scoped>\n",
              "    .dataframe tbody tr th:only-of-type {\n",
              "        vertical-align: middle;\n",
              "    }\n",
              "\n",
              "    .dataframe tbody tr th {\n",
              "        vertical-align: top;\n",
              "    }\n",
              "\n",
              "    .dataframe thead th {\n",
              "        text-align: right;\n",
              "    }\n",
              "</style>\n",
              "<table border=\"1\" class=\"dataframe\">\n",
              "  <thead>\n",
              "    <tr style=\"text-align: right;\">\n",
              "      <th></th>\n",
              "      <th>model</th>\n",
              "      <th>best_score</th>\n",
              "      <th>best_params</th>\n",
              "    </tr>\n",
              "  </thead>\n",
              "  <tbody>\n",
              "    <tr>\n",
              "      <th>0</th>\n",
              "      <td>random_forest</td>\n",
              "      <td>1.0</td>\n",
              "      <td>{'n_estimators': 10}</td>\n",
              "    </tr>\n",
              "    <tr>\n",
              "      <th>1</th>\n",
              "      <td>logistic_regression</td>\n",
              "      <td>1.0</td>\n",
              "      <td>{'C': 1}</td>\n",
              "    </tr>\n",
              "    <tr>\n",
              "      <th>2</th>\n",
              "      <td>decission_tree</td>\n",
              "      <td>1.0</td>\n",
              "      <td>{'criterion': 'gini'}</td>\n",
              "    </tr>\n",
              "    <tr>\n",
              "      <th>3</th>\n",
              "      <td>svm</td>\n",
              "      <td>1.0</td>\n",
              "      <td>{'C': 1, 'kernel': 'linear'}</td>\n",
              "    </tr>\n",
              "  </tbody>\n",
              "</table>\n",
              "</div>"
            ],
            "text/plain": [
              "                 model  best_score                   best_params\n",
              "0        random_forest         1.0          {'n_estimators': 10}\n",
              "1  logistic_regression         1.0                      {'C': 1}\n",
              "2       decission_tree         1.0         {'criterion': 'gini'}\n",
              "3                  svm         1.0  {'C': 1, 'kernel': 'linear'}"
            ]
          },
          "metadata": {
            "tags": []
          },
          "execution_count": 13
        }
      ]
    },
    {
      "cell_type": "code",
      "metadata": {
        "id": "3R_bmitFkb9y",
        "colab": {
          "base_uri": "https://localhost:8080/"
        },
        "outputId": "f19a070a-51d8-458a-d619-4c41983f0f58"
      },
      "source": [
        "rs.best_estimator_"
      ],
      "execution_count": 14,
      "outputs": [
        {
          "output_type": "execute_result",
          "data": {
            "text/plain": [
              "SVC(C=1, break_ties=False, cache_size=200, class_weight=None, coef0=0.0,\n",
              "    decision_function_shape='ovr', degree=3, gamma='auto', kernel='linear',\n",
              "    max_iter=-1, probability=False, random_state=None, shrinking=True,\n",
              "    tol=0.001, verbose=False)"
            ]
          },
          "metadata": {
            "tags": []
          },
          "execution_count": 14
        }
      ]
    },
    {
      "cell_type": "markdown",
      "metadata": {
        "id": "SzV5s2Osw4BQ"
      },
      "source": [
        "# **6. Modeling & Prediction**"
      ]
    },
    {
      "cell_type": "code",
      "metadata": {
        "id": "_7RaBgE435XV"
      },
      "source": [
        "# split the dataset\n",
        "x_train,x_test,y_train,y_test=train_test_split(flat_data,labels,test_size=0.25,random_state=12)"
      ],
      "execution_count": 15,
      "outputs": []
    },
    {
      "cell_type": "code",
      "metadata": {
        "id": "Rk0eNko5MKV7",
        "colab": {
          "base_uri": "https://localhost:8080/"
        },
        "outputId": "b2141b1a-7c02-4db1-9ad5-b6e7998b8e03"
      },
      "source": [
        "from sklearn.linear_model import LogisticRegression\n",
        "svm_model=SVC(C=1, break_ties=False, cache_size=200, class_weight=None, coef0=0.0,\n",
        "    decision_function_shape='ovr', degree=3, gamma='auto', kernel='linear',\n",
        "    max_iter=-1, probability=False, random_state=None, shrinking=True,\n",
        "    tol=0.001, verbose=False)\n",
        "svm_model.fit(x_train,y_train)\n"
      ],
      "execution_count": 16,
      "outputs": [
        {
          "output_type": "execute_result",
          "data": {
            "text/plain": [
              "SVC(C=1, break_ties=False, cache_size=200, class_weight=None, coef0=0.0,\n",
              "    decision_function_shape='ovr', degree=3, gamma='auto', kernel='linear',\n",
              "    max_iter=-1, probability=False, random_state=None, shrinking=True,\n",
              "    tol=0.001, verbose=False)"
            ]
          },
          "metadata": {
            "tags": []
          },
          "execution_count": 16
        }
      ]
    },
    {
      "cell_type": "code",
      "metadata": {
        "id": "jj-Gv5IK5Ovx",
        "outputId": "64a64ba2-d5de-4813-cfc6-bff795a3aa49",
        "colab": {
          "base_uri": "https://localhost:8080/"
        }
      },
      "source": [
        "x_test[0]"
      ],
      "execution_count": 28,
      "outputs": [
        {
          "output_type": "execute_result",
          "data": {
            "text/plain": [
              "array([0.74658824, 0.60784314, 0.43678431, ..., 0.76862745, 0.68627451,\n",
              "       0.62501961])"
            ]
          },
          "metadata": {
            "tags": []
          },
          "execution_count": 28
        }
      ]
    },
    {
      "cell_type": "code",
      "metadata": {
        "id": "mGGbzVBMhRjG"
      },
      "source": [
        "# predict for test dataset\n",
        "y_pred=svm_model.predict(x_test)"
      ],
      "execution_count": 17,
      "outputs": []
    },
    {
      "cell_type": "code",
      "metadata": {
        "id": "OGAdSLURxlus",
        "colab": {
          "base_uri": "https://localhost:8080/"
        },
        "outputId": "17e731b5-124f-4328-eb22-13c5dc9e7047"
      },
      "source": [
        "# Find Accuracy\n",
        "print(\"============================================================\")\n",
        "print(\"Training accuracy of data is :\", svm_model.score(x_train, y_train))\n",
        "print(\"============================================================\")\n",
        "print(\"Testng accuracy of data is :\", svm_model.score(x_test, y_test))\n",
        "print(\"============================================================\")"
      ],
      "execution_count": 18,
      "outputs": [
        {
          "output_type": "stream",
          "text": [
            "============================================================\n",
            "Training accuracy of data is : 1.0\n",
            "============================================================\n",
            "Testng accuracy of data is : 1.0\n",
            "============================================================\n"
          ],
          "name": "stdout"
        }
      ]
    },
    {
      "cell_type": "code",
      "metadata": {
        "id": "oA2N3vLUhtEV",
        "colab": {
          "base_uri": "https://localhost:8080/",
          "height": 283
        },
        "outputId": "e7f593af-fd93-4635-a344-0e3a8e320290"
      },
      "source": [
        "# confusion matrix\n",
        "cf_matrix = confusion_matrix(y_test, y_pred)\n",
        "import seaborn as sns\n",
        "sns.heatmap(cf_matrix, annot=True)"
      ],
      "execution_count": 19,
      "outputs": [
        {
          "output_type": "execute_result",
          "data": {
            "text/plain": [
              "<matplotlib.axes._subplots.AxesSubplot at 0x7faf11e3b2d0>"
            ]
          },
          "metadata": {
            "tags": []
          },
          "execution_count": 19
        },
        {
          "output_type": "display_data",
          "data": {
            "image/png": "[encoded data removed]",
            "text/plain": [
              "<Figure size 432x288 with 2 Axes>"
            ]
          },
          "metadata": {
            "tags": [],
            "needs_background": "light"
          }
        }
      ]
    },
    {
      "cell_type": "markdown",
      "metadata": {
        "id": "WZaG7BAxx6OI"
      },
      "source": [
        "# **7. Save the model**"
      ]
    },
    {
      "cell_type": "code",
      "metadata": {
        "id": "WrO_hl1rx4_d",
        "colab": {
          "base_uri": "https://localhost:8080/"
        },
        "outputId": "262ad8ee-5e98-461f-84d9-b433088f87aa"
      },
      "source": [
        "#Saving Scikitlearn models\n",
        "import joblib\n",
        "joblib.dump(svm_model, \"cat_dog_classifier.pkl\")"
      ],
      "execution_count": 20,
      "outputs": [
        {
          "output_type": "execute_result",
          "data": {
            "text/plain": [
              "['cat_dog_classifier.pkl']"
            ]
          },
          "metadata": {
            "tags": []
          },
          "execution_count": 20
        }
      ]
    },
    {
      "cell_type": "markdown",
      "metadata": {
        "id": "PmYnNJS8C5u_"
      },
      "source": [
        "# **Input Image Detection**"
      ]
    },
    {
      "cell_type": "code",
      "metadata": {
        "id": "axZhU6-P_gLh",
        "outputId": "1d1f7188-dd60-4260-e075-d66c5b94a3a4",
        "colab": {
          "base_uri": "https://localhost:8080/",
          "height": 273
        }
      },
      "source": [
        "url=input(\"Enter image link :\")\n",
        "img = Image.open(urlopen(url))\n",
        "input_array=[]\n",
        "ran_img=imread(url)\n",
        "resized_img=resize(ran_img, (100, 100,3))\n",
        "input_array.append(resized_img.flatten())\n",
        "imgs=np.array(input_array)\n",
        "y_pred=svm_model.predict(imgs)\n",
        "if y_pred[0] == 0:\n",
        "  print(\"Image is cat\")\n",
        "else:\n",
        "  print(\"Image is dog\")\n",
        "img"
      ],
      "execution_count": 59,
      "outputs": [
        {
          "output_type": "stream",
          "text": [
            "Enter image link :https://upload.wikimedia.org/wikipedia/commons/thumb/a/ac/Dobermann_handling.jpg/330px-Dobermann_handling.jpg\n",
            "Image is dog\n"
          ],
          "name": "stdout"
        },
        {
          "output_type": "execute_result",
          "data": {
            "image/png": "[encoded data removed]",
            "text/plain": [
              "<PIL.JpegImagePlugin.JpegImageFile image mode=RGB size=330x220 at 0x7FAF0A3A7390>"
            ]
          },
          "metadata": {
            "tags": []
          },
          "execution_count": 59
        }
      ]
    }
  ]
}